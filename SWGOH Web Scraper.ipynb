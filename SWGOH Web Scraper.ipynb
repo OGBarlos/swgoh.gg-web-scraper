{
 "cells": [
  {
   "cell_type": "code",
   "execution_count": 20,
   "id": "fb926201",
   "metadata": {},
   "outputs": [],
   "source": [
    "import requests\n",
    "from bs4 import BeautifulSoup\n",
    "import re\n",
    "import pandas as pd"
   ]
  },
  {
   "cell_type": "code",
   "execution_count": 25,
   "id": "8b9cc6e3",
   "metadata": {},
   "outputs": [],
   "source": [
    "def format_character_name(character_name):\n",
    "    # Replace specific character name patterns with correct URL-friendly format\n",
    "    formatted_name = character_name.strip().lower()\n",
    "\n",
    "    # Custom mappings for character names requiring special URL formatting\n",
    "    name_mappings = {\n",
    "        'clone sergeant - phase i': 'clone-sergeant-phase-i',\n",
    "        'ig-12 & grogu': 'ig-12-grogu',\n",
    "        'threepio & chewie': 'threepio-chewie'\n",
    "    }\n",
    "\n",
    "    # Check if the character name requires a custom URL format\n",
    "    if formatted_name in name_mappings:\n",
    "        return name_mappings[formatted_name]\n",
    "    \n",
    "    # Remove any characters that are not alphanumeric, spaces, or hyphens\n",
    "    formatted_name = re.sub(r'[^\\w\\s-]', '', formatted_name)\n",
    "    \n",
    "    # Replace spaces with dashes\n",
    "    formatted_name = formatted_name.replace(' ', '-')\n",
    "\n",
    "    return formatted_name"
   ]
  },
  {
   "cell_type": "code",
   "execution_count": 22,
   "id": "7a4442da",
   "metadata": {},
   "outputs": [],
   "source": [
    "def extract_character_info(character_name):\n",
    "    # Format the character name for constructing the URL\n",
    "    formatted_name = format_character_name(character_name)\n",
    "\n",
    "    # Construct the URL for the character's gear list page\n",
    "    character_url = f'https://swgoh.gg/characters/{formatted_name}/gear-list/'\n",
    "\n",
    "    # Send an HTTP GET request to the character's gear list page\n",
    "    response = requests.get(character_url)\n",
    "\n",
    "    # Check if the request was successful (status code 200)\n",
    "    if response.status_code == 200:\n",
    "        # Parse the HTML content of the page\n",
    "        soup = BeautifulSoup(response.content, 'html.parser')\n",
    "\n",
    "        # Extract character alignment (Dark Side or Light Side)\n",
    "        alignment_tag = soup.find('a', class_='btn btn-sm btn-default-outline')\n",
    "        alignment = alignment_tag.text.strip() if alignment_tag else None\n",
    "\n",
    "        # Extract counts of shock prod and battle computer kyrotechs\n",
    "        shock_prods = 0\n",
    "        battle_computers = 0\n",
    "\n",
    "        # Find all <li> tags with class 'media list-group-item p-0 character'\n",
    "        gear_items = soup.find_all('li', class_='media list-group-item p-0 character')\n",
    "\n",
    "        for item in gear_items:\n",
    "            # Extract the gear type and count\n",
    "            gear_name = item.find('h5').text.strip()\n",
    "            gear_count = int(item.find('p').text.strip().replace('x', ''))\n",
    "\n",
    "            if 'Shock Prod' in gear_name:\n",
    "                shock_prods += gear_count\n",
    "            elif 'Battle Computer' in gear_name:\n",
    "                battle_computers += gear_count\n",
    "\n",
    "        return {\n",
    "            'Character Name': character_name,\n",
    "            'Alignment': alignment,\n",
    "            'Shock Prods Count': shock_prods,\n",
    "            'Battle Computers Count': battle_computers\n",
    "        }\n",
    "    else:\n",
    "        print(f\"Failed to retrieve data from {character_url}. Status code: {response.status_code}\")\n",
    "        return None\n"
   ]
  },
  {
   "cell_type": "code",
   "execution_count": 23,
   "id": "8d09a991",
   "metadata": {},
   "outputs": [],
   "source": [
    "def scrape_all_characters():\n",
    "    # Send an HTTP GET request to the main page (swgoh.gg)\n",
    "    response = requests.get('https://swgoh.gg/')\n",
    "\n",
    "    # Check if the request was successful (status code 200)\n",
    "    if response.status_code == 200:\n",
    "        # Parse the HTML content of the page\n",
    "        soup = BeautifulSoup(response.content, 'html.parser')\n",
    "\n",
    "        # Find all <h5> tags containing character names\n",
    "        character_name_tags = soup.find_all('h5')\n",
    "\n",
    "        characters_info = []\n",
    "\n",
    "        for tag in character_name_tags:\n",
    "            character_name = tag.text.strip()\n",
    "\n",
    "            # Extract information for the character\n",
    "            character_info = extract_character_info(character_name)\n",
    "\n",
    "            if character_info:\n",
    "                characters_info.append(character_info)\n",
    "\n",
    "        return characters_info\n",
    "    else:\n",
    "        print(f\"Failed to retrieve data from swgoh.gg. Status code: {response.status_code}\")\n",
    "        return None"
   ]
  },
  {
   "cell_type": "code",
   "execution_count": 26,
   "id": "cb51c676",
   "metadata": {},
   "outputs": [
    {
     "name": "stdout",
     "output_type": "stream",
     "text": [
      "Failed to retrieve data from https://swgoh.gg/characters/latest-characters/gear-list/. Status code: 404\n",
      "Failed to retrieve data from https://swgoh.gg/characters/latest-ships/gear-list/. Status code: 404\n",
      "Character information exported to 'swgoh_characters_info.xlsx'.\n"
     ]
    }
   ],
   "source": [
    "# Scrape all characters and their information from swgoh.gg\n",
    "all_characters_info = scrape_all_characters()\n",
    "\n",
    "if all_characters_info:\n",
    "    # Create a DataFrame from the extracted character information\n",
    "    df = pd.DataFrame(all_characters_info)\n",
    "\n",
    "    # Define the path to save the Excel file\n",
    "    excel_file_path = 'swgoh_characters_info.xlsx'\n",
    "\n",
    "    # Export the DataFrame to an Excel file\n",
    "    df.to_excel(excel_file_path, index=False)\n",
    "\n",
    "    print(f\"Character information exported to '{excel_file_path}'.\")\n",
    "else:\n",
    "    print(\"No character information retrieved.\")"
   ]
  },
  {
   "cell_type": "code",
   "execution_count": null,
   "id": "c32c9e57",
   "metadata": {},
   "outputs": [],
   "source": []
  }
 ],
 "metadata": {
  "kernelspec": {
   "display_name": "Python 3 (ipykernel)",
   "language": "python",
   "name": "python3"
  },
  "language_info": {
   "codemirror_mode": {
    "name": "ipython",
    "version": 3
   },
   "file_extension": ".py",
   "mimetype": "text/x-python",
   "name": "python",
   "nbconvert_exporter": "python",
   "pygments_lexer": "ipython3",
   "version": "3.11.5"
  }
 },
 "nbformat": 4,
 "nbformat_minor": 5
}
